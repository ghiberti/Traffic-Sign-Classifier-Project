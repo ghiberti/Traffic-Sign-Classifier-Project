{
 "cells": [
  {
   "cell_type": "markdown",
   "metadata": {},
   "source": [
    "# Self-Driving Car Engineer Nanodegree\n",
    "\n",
    "## Deep Learning\n",
    "\n",
    "## Project: Build a Traffic Sign Recognition Classifier\n",
    "\n",
    "In this notebook, a template is provided for you to implement your functionality in stages, which is required to successfully complete this project. If additional code is required that cannot be included in the notebook, be sure that the Python code is successfully imported and included in your submission if necessary. \n",
    "\n",
    "> **Note**: Once you have completed all of the code implementations, you need to finalize your work by exporting the iPython Notebook as an HTML document. Before exporting the notebook to html, all of the code cells need to have been run so that reviewers can see the final implementation and output. You can then export the notebook by using the menu above and navigating to  \\n\",\n",
    "    \"**File -> Download as -> HTML (.html)**. Include the finished document along with this notebook as your submission. \n",
    "\n",
    "In addition to implementing code, there is a writeup to complete. The writeup should be completed in a separate file, which can be either a markdown file or a pdf document. There is a [write up template](https://github.com/udacity/CarND-Traffic-Sign-Classifier-Project/blob/master/writeup_template.md) that can be used to guide the writing process. Completing the code template and writeup template will cover all of the [rubric points](https://review.udacity.com/#!/rubrics/481/view) for this project.\n",
    "\n",
    "The [rubric](https://review.udacity.com/#!/rubrics/481/view) contains \"Stand Out Suggestions\" for enhancing the project beyond the minimum requirements. The stand out suggestions are optional. If you decide to pursue the \"stand out suggestions\", you can include the code in this Ipython notebook and also discuss the results in the writeup file.\n",
    "\n",
    "\n",
    ">**Note:** Code and Markdown cells can be executed using the **Shift + Enter** keyboard shortcut. In addition, Markdown cells can be edited by typically double-clicking the cell to enter edit mode."
   ]
  },
  {
   "cell_type": "markdown",
   "metadata": {},
   "source": [
    "---\n",
    "## Step 0: Load The Data"
   ]
  },
  {
   "cell_type": "code",
   "execution_count": 18,
   "metadata": {
    "collapsed": true
   },
   "outputs": [],
   "source": [
    "# Load pickled data\n",
    "import pickle\n",
    "\n",
    "# TODO: Fill this in based on where you saved the training and testing data\n",
    "\n",
    "training_file = \"./data/train.p\"\n",
    "validation_file= \"./data/valid.p\"\n",
    "testing_file = \"./data/test.p\"\n",
    "\n",
    "with open(training_file, mode='rb') as f:\n",
    "    train = pickle.load(f)\n",
    "with open(validation_file, mode='rb') as f:\n",
    "    valid = pickle.load(f)\n",
    "with open(testing_file, mode='rb') as f:\n",
    "    test = pickle.load(f)\n",
    "    \n",
    "X_train, y_train = train['features'], train['labels']\n",
    "X_valid, y_valid = valid['features'], valid['labels']\n",
    "X_test, y_test = test['features'], test['labels']"
   ]
  },
  {
   "cell_type": "code",
   "execution_count": 20,
   "metadata": {},
   "outputs": [
    {
     "data": {
      "text/plain": [
       "(34799,)"
      ]
     },
     "execution_count": 20,
     "metadata": {},
     "output_type": "execute_result"
    }
   ],
   "source": [
    "y_train.shape"
   ]
  },
  {
   "cell_type": "markdown",
   "metadata": {},
   "source": [
    "---\n",
    "\n",
    "## Step 1: Dataset Summary & Exploration\n",
    "\n",
    "The pickled data is a dictionary with 4 key/value pairs:\n",
    "\n",
    "- `'features'` is a 4D array containing raw pixel data of the traffic sign images, (num examples, width, height, channels).\n",
    "- `'labels'` is a 1D array containing the label/class id of the traffic sign. The file `signnames.csv` contains id -> name mappings for each id.\n",
    "- `'sizes'` is a list containing tuples, (width, height) representing the original width and height the image.\n",
    "- `'coords'` is a list containing tuples, (x1, y1, x2, y2) representing coordinates of a bounding box around the sign in the image. **THESE COORDINATES ASSUME THE ORIGINAL IMAGE. THE PICKLED DATA CONTAINS RESIZED VERSIONS (32 by 32) OF THESE IMAGES**\n",
    "\n",
    "Complete the basic data summary below. Use python, numpy and/or pandas methods to calculate the data summary rather than hard coding the results. For example, the [pandas shape method](http://pandas.pydata.org/pandas-docs/stable/generated/pandas.DataFrame.shape.html) might be useful for calculating some of the summary results. "
   ]
  },
  {
   "cell_type": "markdown",
   "metadata": {},
   "source": [
    "### Provide a Basic Summary of the Data Set Using Python, Numpy and/or Pandas"
   ]
  },
  {
   "cell_type": "code",
   "execution_count": 2,
   "metadata": {},
   "outputs": [
    {
     "name": "stdout",
     "output_type": "stream",
     "text": [
      "Number of training examples = 34799\n",
      "Number of testing examples = 12630\n",
      "Image data shape = (32, 32, 3)\n",
      "Number of classes = 43\n"
     ]
    }
   ],
   "source": [
    "### Replace each question mark with the appropriate value. \n",
    "### Use python, pandas or numpy methods rather than hard coding the results\n",
    "\n",
    "# TODO: Number of training examples\n",
    "n_train = X_train.shape[0]\n",
    "\n",
    "# TODO: Number of validation examples\n",
    "n_validation = X_valid.shape[0]\n",
    "\n",
    "# TODO: Number of testing examples.\n",
    "n_test = X_test.shape[0]\n",
    "\n",
    "# TODO: What's the shape of an traffic sign image?\n",
    "image_shape = X_train[0].shape\n",
    "\n",
    "# TODO: How many unique classes/labels there are in the dataset.\n",
    "n_classes = len(set(y_train))\n",
    "\n",
    "print(\"Number of training examples =\", n_train)\n",
    "print(\"Number of testing examples =\", n_test)\n",
    "print(\"Image data shape =\", image_shape)\n",
    "print(\"Number of classes =\", n_classes)"
   ]
  },
  {
   "cell_type": "markdown",
   "metadata": {},
   "source": [
    "### Include an exploratory visualization of the dataset"
   ]
  },
  {
   "cell_type": "markdown",
   "metadata": {},
   "source": [
    "Visualize the German Traffic Signs Dataset using the pickled file(s). This is open ended, suggestions include: plotting traffic sign images, plotting the count of each sign, etc. \n",
    "\n",
    "The [Matplotlib](http://matplotlib.org/) [examples](http://matplotlib.org/examples/index.html) and [gallery](http://matplotlib.org/gallery.html) pages are a great resource for doing visualizations in Python.\n",
    "\n",
    "**NOTE:** It's recommended you start with something simple first. If you wish to do more, come back to it after you've completed the rest of the sections. It can be interesting to look at the distribution of classes in the training, validation and test set. Is the distribution the same? Are there more examples of some classes than others?"
   ]
  },
  {
   "cell_type": "code",
   "execution_count": 3,
   "metadata": {
    "collapsed": true
   },
   "outputs": [],
   "source": [
    "### Data exploration visualization code goes here.\n",
    "### Feel free to use as many code cells as needed.\n",
    "import matplotlib.pyplot as plt\n",
    "# Visualizations will be shown in the notebook.\n",
    "%matplotlib inline"
   ]
  },
  {
   "cell_type": "markdown",
   "metadata": {},
   "source": [
    "----\n",
    "\n",
    "## Step 2: Design and Test a Model Architecture\n",
    "\n",
    "Design and implement a deep learning model that learns to recognize traffic signs. Train and test your model on the [German Traffic Sign Dataset](http://benchmark.ini.rub.de/?section=gtsrb&subsection=dataset).\n",
    "\n",
    "The LeNet-5 implementation shown in the [classroom](https://classroom.udacity.com/nanodegrees/nd013/parts/fbf77062-5703-404e-b60c-95b78b2f3f9e/modules/6df7ae49-c61c-4bb2-a23e-6527e69209ec/lessons/601ae704-1035-4287-8b11-e2c2716217ad/concepts/d4aca031-508f-4e0b-b493-e7b706120f81) at the end of the CNN lesson is a solid starting point. You'll have to change the number of classes and possibly the preprocessing, but aside from that it's plug and play! \n",
    "\n",
    "With the LeNet-5 solution from the lecture, you should expect a validation set accuracy of about 0.89. To meet specifications, the validation set accuracy will need to be at least 0.93. It is possible to get an even higher accuracy, but 0.93 is the minimum for a successful project submission. \n",
    "\n",
    "There are various aspects to consider when thinking about this problem:\n",
    "\n",
    "- Neural network architecture (is the network over or underfitting?)\n",
    "- Play around preprocessing techniques (normalization, rgb to grayscale, etc)\n",
    "- Number of examples per label (some have more than others).\n",
    "- Generate fake data.\n",
    "\n",
    "Here is an example of a [published baseline model on this problem](http://yann.lecun.com/exdb/publis/pdf/sermanet-ijcnn-11.pdf). It's not required to be familiar with the approach used in the paper but, it's good practice to try to read papers like these."
   ]
  },
  {
   "cell_type": "markdown",
   "metadata": {},
   "source": [
    "### Pre-process the Data Set (normalization, grayscale, etc.)"
   ]
  },
  {
   "cell_type": "markdown",
   "metadata": {},
   "source": [
    "Minimally, the image data should be normalized so that the data has mean zero and equal variance. For image data, `(pixel - 128)/ 128` is a quick way to approximately normalize the data and can be used in this project. \n",
    "\n",
    "Other pre-processing steps are optional. You can try different techniques to see if it improves performance. \n",
    "\n",
    "Use the code cell (or multiple code cells, if necessary) to implement the first step of your project."
   ]
  },
  {
   "cell_type": "code",
   "execution_count": 4,
   "metadata": {
    "collapsed": true
   },
   "outputs": [],
   "source": [
    "### Preprocess the data here. It is required to normalize the data. Other preprocessing steps could include \n",
    "### converting to grayscale, etc.\n",
    "### Feel free to use as many code cells as needed."
   ]
  },
  {
   "cell_type": "code",
   "execution_count": 5,
   "metadata": {
    "collapsed": true
   },
   "outputs": [],
   "source": [
    "import numpy as np\n",
    "\n",
    "# Convert image to grayscale\n",
    "def convert_to_gray(image):\n",
    "    \"\"\"\n",
    "    Convert RGB image input into grayscale\n",
    "    :param image: The image data to be converted\n",
    "    :return: grayscale image\n",
    "    \"\"\"\n",
    "\n",
    "    image = np.dot(image[...,:3], [0.299, 0.587, 0.114])\n",
    "    \n",
    "    return image.reshape(len(image),32,32,1)\n",
    "    "
   ]
  },
  {
   "cell_type": "code",
   "execution_count": 6,
   "metadata": {
    "collapsed": true
   },
   "outputs": [],
   "source": [
    "# Normalize input \n",
    "def normalize_input(image):\n",
    "    \"\"\"\n",
    "    Normalize the image data with Min-Max scaling to a range of [0.1, 0.9]\n",
    "    :param image: The image data to be normalized\n",
    "    :return: Normalized image data\n",
    "    \"\"\"\n",
    "    a = 0.1\n",
    "    b = 0.9\n",
    "    min_value = 0\n",
    "    max_value = 255\n",
    "    return a + ((image - min_value)*(b - a) )/(max_value - min_value)"
   ]
  },
  {
   "cell_type": "code",
   "execution_count": 7,
   "metadata": {
    "collapsed": true
   },
   "outputs": [],
   "source": [
    "# Convert to grayscale and normalize\n",
    "X_train = normalize_input(convert_to_gray(X_train))\n",
    "X_valid = normalize_input(convert_to_gray(X_valid))\n",
    "X_test = normalize_input(convert_to_gray(X_test))"
   ]
  },
  {
   "cell_type": "markdown",
   "metadata": {},
   "source": [
    "### Model Architecture"
   ]
  },
  {
   "cell_type": "code",
   "execution_count": 8,
   "metadata": {
    "collapsed": true
   },
   "outputs": [],
   "source": [
    "### Define your architecture here.\n",
    "### Feel free to use as many code cells as needed."
   ]
  },
  {
   "cell_type": "code",
   "execution_count": 60,
   "metadata": {
    "collapsed": true
   },
   "outputs": [],
   "source": [
    "from tensorflow.contrib.layers import flatten\n",
    "\n",
    "def cov_net(x, keep_prob):\n",
    "    \"\"\"\n",
    "    Create a convolutional neural network model\n",
    "    : x: Placeholder tensor that holds image data.\n",
    "    : keep_prob: Placeholder tensor that hold dropout keep probability.\n",
    "    : return: Tensor that represents logits\n",
    "    \"\"\"\n",
    "    # Channel and Kernel sizes for layers\n",
    "    conv_num_outputs1 = 16\n",
    "    conv_num_outputs2 = 32\n",
    "    conv_num_outputs3 = 64\n",
    "    conv_ksize1 = [7,7]\n",
    "    conv_ksize2 = [5,5]\n",
    "    conv_ksize3 = [3,3]\n",
    "    conv_strides = [2,2] # goodfellow et al reports that stride 2 works at least as good as maxpooling\n",
    "    \n",
    "    \n",
    "    # Initiate weight and bias for first layer\n",
    "    weight_l1 = tf.Variable(tf.truncated_normal([*conv_ksize1,x.get_shape().as_list()[3],conv_num_outputs1], stddev=0.1))\n",
    "    bias_l1 = tf.Variable(tf.zeros([conv_num_outputs1]))\n",
    "    \n",
    "    # First Convolution Layer\n",
    "    conv1 = tf.nn.conv2d(x, weight_l1, strides=[1,*conv_strides,1], padding ='VALID') + bias_l1\n",
    "    conv1 = tf.nn.relu(conv1)\n",
    "    \n",
    "    # Initiate weight and bias for second layer\n",
    "    weight_l2 = tf.Variable(tf.truncated_normal([*conv_ksize2,conv1.get_shape().as_list()[3],conv_num_outputs2], stddev=0.1))\n",
    "    bias_l2 = tf.Variable(tf.zeros([conv_num_outputs2]))\n",
    "    \n",
    "    # Second Convolution Layer\n",
    "    conv2 = tf.nn.conv2d(conv1, weight_l2, strides=[1,*conv_strides,1], padding ='VALID') + bias_l2\n",
    "    conv2 = tf.nn.relu(conv2)\n",
    "    \n",
    "    # Initiate weight and bias for third layer\n",
    "    weight_l3 = tf.Variable(tf.truncated_normal([*conv_ksize3,conv2.get_shape().as_list()[3],conv_num_outputs3], stddev=0.1))\n",
    "    bias_l3 = tf.Variable(tf.zeros([conv_num_outputs3]))\n",
    "    \n",
    "    # Third Convolution Layer\n",
    "    conv3 = tf.nn.conv2d(conv2, weight_l3, strides=[1,*conv_strides,1], padding ='VALID') + bias_l3\n",
    "    conv3 = tf.nn.relu(conv3)\n",
    "    \n",
    "    # Apply Flatten Layer\n",
    "    flat = flatten(conv3)\n",
    "    \n",
    "    # Inititate weight and bias for first fully connected layer output=256\n",
    "    weight_fc1 = tf.Variable(tf.truncated_normal([flat.get_shape().as_list()[1], 256],stddev=0.1))\n",
    "    bias_fc1 = tf.Variable(tf.zeros([256]))\n",
    "    \n",
    "    # Calculate fully connected layer1\n",
    "    fconn1 = tf.add(tf.matmul(flat, weight_fc1), bias_fc1)\n",
    "    fconn1 = tf.nn.relu(fconn1)\n",
    "    fconn1 = tf.nn.dropout(fconn1, keep_prob)\n",
    "    \n",
    "    # Inititate weight and bias for second fully connected layer output=80\n",
    "    weight_fc2 = tf.Variable(tf.truncated_normal([fconn1.get_shape().as_list()[1], 80],stddev=0.1))\n",
    "    bias_fc2 = tf.Variable(tf.zeros([80]))\n",
    "    \n",
    "    # Calculate fully connected layer2\n",
    "    fconn2 = tf.add(tf.matmul(fconn1, weight_fc2), bias_fc2)\n",
    "    fconn2 = tf.nn.relu(fconn2)\n",
    "    fconn2 = tf.nn.dropout(fconn2, keep_prob)\n",
    "    \n",
    "    # Inititate weight and bias for output layer\n",
    "    weight_out = tf.Variable(tf.truncated_normal([fconn2.get_shape().as_list()[1], 43],stddev=0.1))\n",
    "    bias_out = tf.Variable(tf.zeros([43]))\n",
    "    \n",
    "    # Calculate output\n",
    "    logits = tf.add(tf.matmul(fconn2, weight_out), bias_out)\n",
    "    \n",
    "    return logits"
   ]
  },
  {
   "cell_type": "markdown",
   "metadata": {},
   "source": [
    "### Train, Validate and Test the Model"
   ]
  },
  {
   "cell_type": "markdown",
   "metadata": {},
   "source": [
    "A validation set can be used to assess how well the model is performing. A low accuracy on the training and validation\n",
    "sets imply underfitting. A high accuracy on the training set but low accuracy on the validation set implies overfitting."
   ]
  },
  {
   "cell_type": "code",
   "execution_count": 61,
   "metadata": {
    "collapsed": true
   },
   "outputs": [],
   "source": [
    "import tensorflow as tf\n",
    "\n",
    "x = tf.placeholder(tf.float32, (None, 32, 32, 1))\n",
    "y = tf.placeholder(tf.int32, (None))\n",
    "# keep_prob = tf.placeholder(tf.float32)\n",
    "\n",
    "# One hot encode labels\n",
    "one_hot_y = tf.one_hot(y, 43)"
   ]
  },
  {
   "cell_type": "code",
   "execution_count": 63,
   "metadata": {
    "collapsed": true
   },
   "outputs": [],
   "source": [
    "# Hyperparameters\n",
    "epochs = 120\n",
    "batch_size = 512\n",
    "keep_prob = 0.5\n",
    "l_rate = 0.001"
   ]
  },
  {
   "cell_type": "code",
   "execution_count": 64,
   "metadata": {
    "collapsed": true
   },
   "outputs": [],
   "source": [
    "### Train your model here.\n",
    "### Calculate and report the accuracy on the training and validation set.\n",
    "### Once a final model architecture is selected, \n",
    "### the accuracy on the test set should be calculated and reported as well.\n",
    "### Feel free to use as many code cells as needed."
   ]
  },
  {
   "cell_type": "code",
   "execution_count": 65,
   "metadata": {},
   "outputs": [],
   "source": [
    "logits = cov_net(x, keep_prob)\n",
    "cross_entropy = tf.nn.softmax_cross_entropy_with_logits(labels=one_hot_y, logits=logits)\n",
    "loss_operation = tf.reduce_mean(cross_entropy)\n",
    "optimizer = tf.train.AdamOptimizer(learning_rate = l_rate)\n",
    "training_operation = optimizer.minimize(loss_operation)"
   ]
  },
  {
   "cell_type": "code",
   "execution_count": 66,
   "metadata": {},
   "outputs": [],
   "source": [
    "correct_prediction = tf.equal(tf.argmax(logits, 1), tf.argmax(one_hot_y, 1))\n",
    "accuracy_operation = tf.reduce_mean(tf.cast(correct_prediction, tf.float32))\n",
    "\n",
    "def evaluate(X_data, y_data):\n",
    "    num_examples = len(X_data)\n",
    "    total_accuracy = 0\n",
    "    sess = tf.get_default_session()\n",
    "    for offset in range(0, num_examples, batch_size):\n",
    "        batch_x, batch_y = X_data[offset:offset+batch_size], y_data[offset:offset+batch_size]\n",
    "        accuracy = sess.run(accuracy_operation, feed_dict={x: batch_x, y: batch_y})\n",
    "        total_accuracy += (accuracy * len(batch_x))\n",
    "    return total_accuracy / num_examples"
   ]
  },
  {
   "cell_type": "code",
   "execution_count": 67,
   "metadata": {},
   "outputs": [
    {
     "name": "stdout",
     "output_type": "stream",
     "text": [
      "Training...\n",
      "\n",
      "EPOCH 1 ...\n",
      "Validation Accuracy = 0.271\n",
      "\n",
      "EPOCH 2 ...\n",
      "Validation Accuracy = 0.516\n",
      "\n",
      "EPOCH 3 ...\n",
      "Validation Accuracy = 0.654\n",
      "\n",
      "EPOCH 4 ...\n",
      "Validation Accuracy = 0.719\n",
      "\n",
      "EPOCH 5 ...\n",
      "Validation Accuracy = 0.748\n",
      "\n",
      "EPOCH 6 ...\n",
      "Validation Accuracy = 0.775\n",
      "\n",
      "EPOCH 7 ...\n",
      "Validation Accuracy = 0.797\n",
      "\n",
      "EPOCH 8 ...\n",
      "Validation Accuracy = 0.806\n",
      "\n",
      "EPOCH 9 ...\n",
      "Validation Accuracy = 0.826\n",
      "\n",
      "EPOCH 10 ...\n",
      "Validation Accuracy = 0.846\n",
      "\n",
      "EPOCH 11 ...\n",
      "Validation Accuracy = 0.845\n",
      "\n",
      "EPOCH 12 ...\n",
      "Validation Accuracy = 0.845\n",
      "\n",
      "EPOCH 13 ...\n",
      "Validation Accuracy = 0.857\n",
      "\n",
      "EPOCH 14 ...\n",
      "Validation Accuracy = 0.862\n",
      "\n",
      "EPOCH 15 ...\n",
      "Validation Accuracy = 0.870\n",
      "\n",
      "EPOCH 16 ...\n",
      "Validation Accuracy = 0.871\n",
      "\n",
      "EPOCH 17 ...\n",
      "Validation Accuracy = 0.878\n",
      "\n",
      "EPOCH 18 ...\n",
      "Validation Accuracy = 0.880\n",
      "\n",
      "EPOCH 19 ...\n",
      "Validation Accuracy = 0.886\n",
      "\n",
      "EPOCH 20 ...\n",
      "Validation Accuracy = 0.888\n",
      "\n",
      "EPOCH 21 ...\n",
      "Validation Accuracy = 0.882\n",
      "\n",
      "EPOCH 22 ...\n",
      "Validation Accuracy = 0.890\n",
      "\n",
      "EPOCH 23 ...\n",
      "Validation Accuracy = 0.888\n",
      "\n",
      "EPOCH 24 ...\n",
      "Validation Accuracy = 0.896\n",
      "\n",
      "EPOCH 25 ...\n",
      "Validation Accuracy = 0.897\n",
      "\n",
      "EPOCH 26 ...\n",
      "Validation Accuracy = 0.887\n",
      "\n",
      "EPOCH 27 ...\n",
      "Validation Accuracy = 0.899\n",
      "\n",
      "EPOCH 28 ...\n",
      "Validation Accuracy = 0.901\n",
      "\n",
      "EPOCH 29 ...\n",
      "Validation Accuracy = 0.895\n",
      "\n",
      "EPOCH 30 ...\n",
      "Validation Accuracy = 0.904\n",
      "\n",
      "EPOCH 31 ...\n",
      "Validation Accuracy = 0.899\n",
      "\n",
      "EPOCH 32 ...\n",
      "Validation Accuracy = 0.910\n",
      "\n",
      "EPOCH 33 ...\n",
      "Validation Accuracy = 0.900\n",
      "\n",
      "EPOCH 34 ...\n",
      "Validation Accuracy = 0.912\n",
      "\n",
      "EPOCH 35 ...\n",
      "Validation Accuracy = 0.911\n",
      "\n",
      "EPOCH 36 ...\n",
      "Validation Accuracy = 0.906\n",
      "\n",
      "EPOCH 37 ...\n",
      "Validation Accuracy = 0.914\n",
      "\n",
      "EPOCH 38 ...\n",
      "Validation Accuracy = 0.914\n",
      "\n",
      "EPOCH 39 ...\n",
      "Validation Accuracy = 0.915\n",
      "\n",
      "EPOCH 40 ...\n",
      "Validation Accuracy = 0.914\n",
      "\n",
      "EPOCH 41 ...\n",
      "Validation Accuracy = 0.909\n",
      "\n",
      "EPOCH 42 ...\n",
      "Validation Accuracy = 0.915\n",
      "\n",
      "EPOCH 43 ...\n",
      "Validation Accuracy = 0.917\n",
      "\n",
      "EPOCH 44 ...\n",
      "Validation Accuracy = 0.910\n",
      "\n",
      "EPOCH 45 ...\n",
      "Validation Accuracy = 0.919\n",
      "\n",
      "EPOCH 46 ...\n",
      "Validation Accuracy = 0.918\n",
      "\n",
      "EPOCH 47 ...\n",
      "Validation Accuracy = 0.917\n",
      "\n",
      "EPOCH 48 ...\n",
      "Validation Accuracy = 0.921\n",
      "\n",
      "EPOCH 49 ...\n",
      "Validation Accuracy = 0.913\n",
      "\n",
      "EPOCH 50 ...\n",
      "Validation Accuracy = 0.914\n",
      "\n",
      "EPOCH 51 ...\n",
      "Validation Accuracy = 0.917\n",
      "\n",
      "EPOCH 52 ...\n",
      "Validation Accuracy = 0.921\n",
      "\n",
      "EPOCH 53 ...\n",
      "Validation Accuracy = 0.920\n",
      "\n",
      "EPOCH 54 ...\n",
      "Validation Accuracy = 0.917\n",
      "\n",
      "EPOCH 55 ...\n",
      "Validation Accuracy = 0.921\n",
      "\n",
      "EPOCH 56 ...\n",
      "Validation Accuracy = 0.922\n",
      "\n",
      "EPOCH 57 ...\n",
      "Validation Accuracy = 0.920\n",
      "\n",
      "EPOCH 58 ...\n",
      "Validation Accuracy = 0.917\n",
      "\n",
      "EPOCH 59 ...\n",
      "Validation Accuracy = 0.923\n",
      "\n",
      "EPOCH 60 ...\n",
      "Validation Accuracy = 0.921\n",
      "\n",
      "EPOCH 61 ...\n",
      "Validation Accuracy = 0.920\n",
      "\n",
      "EPOCH 62 ...\n",
      "Validation Accuracy = 0.927\n",
      "\n",
      "EPOCH 63 ...\n",
      "Validation Accuracy = 0.922\n",
      "\n",
      "EPOCH 64 ...\n",
      "Validation Accuracy = 0.925\n",
      "\n",
      "EPOCH 65 ...\n",
      "Validation Accuracy = 0.918\n",
      "\n",
      "EPOCH 66 ...\n",
      "Validation Accuracy = 0.926\n",
      "\n",
      "EPOCH 67 ...\n",
      "Validation Accuracy = 0.923\n",
      "\n",
      "EPOCH 68 ...\n",
      "Validation Accuracy = 0.927\n",
      "\n",
      "EPOCH 69 ...\n",
      "Validation Accuracy = 0.929\n",
      "\n",
      "EPOCH 70 ...\n",
      "Validation Accuracy = 0.925\n",
      "\n",
      "EPOCH 71 ...\n",
      "Validation Accuracy = 0.927\n",
      "\n",
      "EPOCH 72 ...\n",
      "Validation Accuracy = 0.931\n",
      "\n",
      "EPOCH 73 ...\n",
      "Validation Accuracy = 0.921\n",
      "\n",
      "EPOCH 74 ...\n",
      "Validation Accuracy = 0.922\n",
      "\n",
      "EPOCH 75 ...\n",
      "Validation Accuracy = 0.927\n",
      "\n",
      "EPOCH 76 ...\n",
      "Validation Accuracy = 0.927\n",
      "\n",
      "EPOCH 77 ...\n",
      "Validation Accuracy = 0.929\n",
      "\n",
      "EPOCH 78 ...\n",
      "Validation Accuracy = 0.933\n",
      "\n",
      "EPOCH 79 ...\n",
      "Validation Accuracy = 0.926\n",
      "\n",
      "EPOCH 80 ...\n",
      "Validation Accuracy = 0.930\n",
      "\n",
      "EPOCH 81 ...\n",
      "Validation Accuracy = 0.925\n",
      "\n",
      "EPOCH 82 ...\n",
      "Validation Accuracy = 0.921\n",
      "\n",
      "EPOCH 83 ...\n",
      "Validation Accuracy = 0.916\n",
      "\n",
      "EPOCH 84 ...\n",
      "Validation Accuracy = 0.927\n",
      "\n",
      "EPOCH 85 ...\n",
      "Validation Accuracy = 0.929\n",
      "\n",
      "EPOCH 86 ...\n",
      "Validation Accuracy = 0.928\n",
      "\n",
      "EPOCH 87 ...\n",
      "Validation Accuracy = 0.930\n",
      "\n",
      "EPOCH 88 ...\n",
      "Validation Accuracy = 0.925\n",
      "\n",
      "EPOCH 89 ...\n",
      "Validation Accuracy = 0.932\n",
      "\n",
      "EPOCH 90 ...\n",
      "Validation Accuracy = 0.929\n",
      "\n",
      "EPOCH 91 ...\n",
      "Validation Accuracy = 0.933\n",
      "\n",
      "EPOCH 92 ...\n",
      "Validation Accuracy = 0.926\n",
      "\n",
      "EPOCH 93 ...\n",
      "Validation Accuracy = 0.931\n",
      "\n",
      "EPOCH 94 ...\n",
      "Validation Accuracy = 0.926\n",
      "\n",
      "EPOCH 95 ...\n",
      "Validation Accuracy = 0.927\n",
      "\n",
      "EPOCH 96 ...\n",
      "Validation Accuracy = 0.928\n",
      "\n",
      "EPOCH 97 ...\n",
      "Validation Accuracy = 0.935\n",
      "\n",
      "EPOCH 98 ...\n",
      "Validation Accuracy = 0.930\n",
      "\n",
      "EPOCH 99 ...\n",
      "Validation Accuracy = 0.928\n",
      "\n",
      "EPOCH 100 ...\n",
      "Validation Accuracy = 0.928\n",
      "\n",
      "EPOCH 101 ...\n",
      "Validation Accuracy = 0.928\n",
      "\n",
      "EPOCH 102 ...\n",
      "Validation Accuracy = 0.931\n",
      "\n",
      "EPOCH 103 ...\n",
      "Validation Accuracy = 0.933\n",
      "\n",
      "EPOCH 104 ...\n",
      "Validation Accuracy = 0.936\n",
      "\n",
      "EPOCH 105 ...\n",
      "Validation Accuracy = 0.926\n",
      "\n",
      "EPOCH 106 ...\n",
      "Validation Accuracy = 0.936\n",
      "\n",
      "EPOCH 107 ...\n",
      "Validation Accuracy = 0.937\n",
      "\n",
      "EPOCH 108 ...\n",
      "Validation Accuracy = 0.928\n",
      "\n",
      "EPOCH 109 ...\n",
      "Validation Accuracy = 0.927\n",
      "\n",
      "EPOCH 110 ...\n",
      "Validation Accuracy = 0.933\n",
      "\n",
      "EPOCH 111 ...\n",
      "Validation Accuracy = 0.926\n",
      "\n",
      "EPOCH 112 ...\n",
      "Validation Accuracy = 0.930\n",
      "\n",
      "EPOCH 113 ...\n",
      "Validation Accuracy = 0.931\n",
      "\n",
      "EPOCH 114 ...\n",
      "Validation Accuracy = 0.929\n",
      "\n",
      "EPOCH 115 ...\n",
      "Validation Accuracy = 0.939\n",
      "\n",
      "EPOCH 116 ...\n",
      "Validation Accuracy = 0.935\n",
      "\n",
      "EPOCH 117 ...\n",
      "Validation Accuracy = 0.939\n",
      "\n",
      "EPOCH 118 ...\n",
      "Validation Accuracy = 0.927\n",
      "\n",
      "EPOCH 119 ...\n",
      "Validation Accuracy = 0.936\n",
      "\n",
      "EPOCH 120 ...\n",
      "Validation Accuracy = 0.936\n",
      "\n",
      "Model saved\n"
     ]
    }
   ],
   "source": [
    "from sklearn.utils import shuffle\n",
    "\n",
    "save_model_path = './CarND-Traffic-Sign-Classifier-Project'\n",
    "\n",
    "with tf.Session() as sess:\n",
    "    sess.run(tf.global_variables_initializer())\n",
    "    num_examples = len(X_train)\n",
    "    \n",
    "    print(\"Training...\")\n",
    "    print()\n",
    "    for i in range(epochs):\n",
    "        X_train, y_train = shuffle(X_train, y_train)\n",
    "        \n",
    "        for offset in range(0, num_examples, batch_size):\n",
    "            end = offset + batch_size\n",
    "            batch_x, batch_y = X_train[offset:end], y_train[offset:end]\n",
    "            sess.run(training_operation, feed_dict={x: batch_x, y: batch_y})\n",
    "            \n",
    "        validation_accuracy = evaluate(X_valid, y_valid)\n",
    "        print(\"EPOCH {} ...\".format(i+1))\n",
    "        print(\"Validation Accuracy = {:.3f}\".format(validation_accuracy))\n",
    "        print()\n",
    "        \n",
    "    # Save Model\n",
    "    saver = tf.train.Saver()\n",
    "    save_path = saver.save(sess, save_model_path)\n",
    "    print(\"Model saved\")"
   ]
  },
  {
   "cell_type": "code",
   "execution_count": 32,
   "metadata": {
    "collapsed": true
   },
   "outputs": [],
   "source": [
    "# Remove previous weights, bias, inputs, etc..\n",
    "tf.reset_default_graph()"
   ]
  },
  {
   "cell_type": "markdown",
   "metadata": {},
   "source": [
    "---\n",
    "\n",
    "## Step 3: Test a Model on New Images\n",
    "\n",
    "To give yourself more insight into how your model is working, download at least five pictures of German traffic signs from the web and use your model to predict the traffic sign type.\n",
    "\n",
    "You may find `signnames.csv` useful as it contains mappings from the class id (integer) to the actual sign name."
   ]
  },
  {
   "cell_type": "markdown",
   "metadata": {},
   "source": [
    "### Load and Output the Images"
   ]
  },
  {
   "cell_type": "code",
   "execution_count": null,
   "metadata": {
    "collapsed": true
   },
   "outputs": [],
   "source": [
    "### Load the images and plot them here.\n",
    "### Feel free to use as many code cells as needed."
   ]
  },
  {
   "cell_type": "code",
   "execution_count": 38,
   "metadata": {},
   "outputs": [
    {
     "data": {
      "image/png": "[encoded data removed]",
      "text/plain": [
       "<matplotlib.figure.Figure at 0x15b947584a8>"
      ]
     },
     "metadata": {},
     "output_type": "display_data"
    }
   ],
   "source": [
    "import matplotlib.image as mpimg\n",
    "import os\n",
    "\n",
    "path = 'data/examples/'\n",
    "\n",
    "fig = plt.figure(figsize=(8, 8))\n",
    "\n",
    "for i, filename in enumerate(os.listdir(path),1):\n",
    "    \n",
    "    image = mpimg.imread(os.path.join(path, filename))\n",
    "    \n",
    "    ax = fig.add_subplot(3,2,i)\n",
    "    \n",
    "    ax.set_title(filename)\n",
    "    ax.imshow(image)\n",
    "\n",
    "plt.tight_layout()\n",
    "plt.show()"
   ]
  },
  {
   "cell_type": "code",
   "execution_count": 17,
   "metadata": {},
   "outputs": [
    {
     "name": "stdout",
     "output_type": "stream",
     "text": [
      "keep_right.jpg\n",
      "limit_70.jpg\n",
      "priority.jpg\n",
      "roundabout.jpg\n",
      "stop.jpg\n"
     ]
    }
   ],
   "source": [
    "import os\n",
    "\n",
    "path = 'data/examples/'\n",
    "\n",
    "img_array =[]\n",
    "\n",
    "for filename in os.listdir(path):\n",
    "    print(filename)\n",
    "    image = mpimg.imread(os.path.join(path, filename))\n",
    "    img_array.append(image)\n",
    "\n",
    "example_features = np.array(img_array)"
   ]
  },
  {
   "cell_type": "code",
   "execution_count": 21,
   "metadata": {},
   "outputs": [],
   "source": [
    "import tensorflow as tf\n",
    "example_labels = np.array([38, 4, 12, 40, 14])\n",
    "example_one_hot = tf.one_hot(example_labels, 43)"
   ]
  },
  {
   "cell_type": "markdown",
   "metadata": {},
   "source": [
    "### Predict the Sign Type for Each Image"
   ]
  },
  {
   "cell_type": "code",
   "execution_count": null,
   "metadata": {
    "collapsed": true
   },
   "outputs": [],
   "source": [
    "### Run the predictions here and use the model to output the prediction for each image.\n",
    "### Make sure to pre-process the images with the same pre-processing pipeline used earlier.\n",
    "### Feel free to use as many code cells as needed."
   ]
  },
  {
   "cell_type": "markdown",
   "metadata": {},
   "source": [
    "### Analyze Performance"
   ]
  },
  {
   "cell_type": "code",
   "execution_count": null,
   "metadata": {
    "collapsed": true
   },
   "outputs": [],
   "source": [
    "### Calculate the accuracy for these 5 new images. \n",
    "### For example, if the model predicted 1 out of 5 signs correctly, it's 20% accurate on these new images."
   ]
  },
  {
   "cell_type": "markdown",
   "metadata": {},
   "source": [
    "### Output Top 5 Softmax Probabilities For Each Image Found on the Web"
   ]
  },
  {
   "cell_type": "markdown",
   "metadata": {},
   "source": [
    "For each of the new images, print out the model's softmax probabilities to show the **certainty** of the model's predictions (limit the output to the top 5 probabilities for each image). [`tf.nn.top_k`](https://www.tensorflow.org/versions/r0.12/api_docs/python/nn.html#top_k) could prove helpful here. \n",
    "\n",
    "The example below demonstrates how tf.nn.top_k can be used to find the top k predictions for each image.\n",
    "\n",
    "`tf.nn.top_k` will return the values and indices (class ids) of the top k predictions. So if k=3, for each sign, it'll return the 3 largest probabilities (out of a possible 43) and the correspoding class ids.\n",
    "\n",
    "Take this numpy array as an example. The values in the array represent predictions. The array contains softmax probabilities for five candidate images with six possible classes. `tf.nn.top_k` is used to choose the three classes with the highest probability:\n",
    "\n",
    "```\n",
    "# (5, 6) array\n",
    "a = np.array([[ 0.24879643,  0.07032244,  0.12641572,  0.34763842,  0.07893497,\n",
    "         0.12789202],\n",
    "       [ 0.28086119,  0.27569815,  0.08594638,  0.0178669 ,  0.18063401,\n",
    "         0.15899337],\n",
    "       [ 0.26076848,  0.23664738,  0.08020603,  0.07001922,  0.1134371 ,\n",
    "         0.23892179],\n",
    "       [ 0.11943333,  0.29198961,  0.02605103,  0.26234032,  0.1351348 ,\n",
    "         0.16505091],\n",
    "       [ 0.09561176,  0.34396535,  0.0643941 ,  0.16240774,  0.24206137,\n",
    "         0.09155967]])\n",
    "```\n",
    "\n",
    "Running it through `sess.run(tf.nn.top_k(tf.constant(a), k=3))` produces:\n",
    "\n",
    "```\n",
    "TopKV2(values=array([[ 0.34763842,  0.24879643,  0.12789202],\n",
    "       [ 0.28086119,  0.27569815,  0.18063401],\n",
    "       [ 0.26076848,  0.23892179,  0.23664738],\n",
    "       [ 0.29198961,  0.26234032,  0.16505091],\n",
    "       [ 0.34396535,  0.24206137,  0.16240774]]), indices=array([[3, 0, 5],\n",
    "       [0, 1, 4],\n",
    "       [0, 5, 1],\n",
    "       [1, 3, 5],\n",
    "       [1, 4, 3]], dtype=int32))\n",
    "```\n",
    "\n",
    "Looking just at the first row we get `[ 0.34763842,  0.24879643,  0.12789202]`, you can confirm these are the 3 largest probabilities in `a`. You'll also notice `[3, 0, 5]` are the corresponding indices."
   ]
  },
  {
   "cell_type": "code",
   "execution_count": null,
   "metadata": {
    "collapsed": true
   },
   "outputs": [],
   "source": [
    "### Print out the top five softmax probabilities for the predictions on the German traffic sign images found on the web. \n",
    "### Feel free to use as many code cells as needed."
   ]
  },
  {
   "cell_type": "markdown",
   "metadata": {},
   "source": [
    "### Project Writeup\n",
    "\n",
    "Once you have completed the code implementation, document your results in a project writeup using this [template](https://github.com/udacity/CarND-Traffic-Sign-Classifier-Project/blob/master/writeup_template.md) as a guide. The writeup can be in a markdown or pdf file. "
   ]
  },
  {
   "cell_type": "markdown",
   "metadata": {},
   "source": [
    "> **Note**: Once you have completed all of the code implementations and successfully answered each question above, you may finalize your work by exporting the iPython Notebook as an HTML document. You can do this by using the menu above and navigating to  \\n\",\n",
    "    \"**File -> Download as -> HTML (.html)**. Include the finished document along with this notebook as your submission."
   ]
  },
  {
   "cell_type": "markdown",
   "metadata": {},
   "source": [
    "---\n",
    "\n",
    "## Step 4 (Optional): Visualize the Neural Network's State with Test Images\n",
    "\n",
    " This Section is not required to complete but acts as an additional excersise for understaning the output of a neural network's weights. While neural networks can be a great learning device they are often referred to as a black box. We can understand what the weights of a neural network look like better by plotting their feature maps. After successfully training your neural network you can see what it's feature maps look like by plotting the output of the network's weight layers in response to a test stimuli image. From these plotted feature maps, it's possible to see what characteristics of an image the network finds interesting. For a sign, maybe the inner network feature maps react with high activation to the sign's boundary outline or to the contrast in the sign's painted symbol.\n",
    "\n",
    " Provided for you below is the function code that allows you to get the visualization output of any tensorflow weight layer you want. The inputs to the function should be a stimuli image, one used during training or a new one you provided, and then the tensorflow variable name that represents the layer's state during the training process, for instance if you wanted to see what the [LeNet lab's](https://classroom.udacity.com/nanodegrees/nd013/parts/fbf77062-5703-404e-b60c-95b78b2f3f9e/modules/6df7ae49-c61c-4bb2-a23e-6527e69209ec/lessons/601ae704-1035-4287-8b11-e2c2716217ad/concepts/d4aca031-508f-4e0b-b493-e7b706120f81) feature maps looked like for it's second convolutional layer you could enter conv2 as the tf_activation variable.\n",
    "\n",
    "For an example of what feature map outputs look like, check out NVIDIA's results in their paper [End-to-End Deep Learning for Self-Driving Cars](https://devblogs.nvidia.com/parallelforall/deep-learning-self-driving-cars/) in the section Visualization of internal CNN State. NVIDIA was able to show that their network's inner weights had high activations to road boundary lines by comparing feature maps from an image with a clear path to one without. Try experimenting with a similar test to show that your trained network's weights are looking for interesting features, whether it's looking at differences in feature maps from images with or without a sign, or even what feature maps look like in a trained network vs a completely untrained one on the same sign image.\n",
    "\n",
    "<figure>\n",
    " <img src=\"visualize_cnn.png\" width=\"380\" alt=\"Combined Image\" />\n",
    " <figcaption>\n",
    " <p></p> \n",
    " <p style=\"text-align: center;\"> Your output should look something like this (above)</p> \n",
    " </figcaption>\n",
    "</figure>\n",
    " <p></p> \n"
   ]
  },
  {
   "cell_type": "code",
   "execution_count": null,
   "metadata": {
    "collapsed": true
   },
   "outputs": [],
   "source": [
    "### Visualize your network's feature maps here.\n",
    "### Feel free to use as many code cells as needed.\n",
    "\n",
    "# image_input: the test image being fed into the network to produce the feature maps\n",
    "# tf_activation: should be a tf variable name used during your training procedure that represents the calculated state of a specific weight layer\n",
    "# activation_min/max: can be used to view the activation contrast in more detail, by default matplot sets min and max to the actual min and max values of the output\n",
    "# plt_num: used to plot out multiple different weight feature map sets on the same block, just extend the plt number for each new feature map entry\n",
    "\n",
    "def outputFeatureMap(image_input, tf_activation, activation_min=-1, activation_max=-1 ,plt_num=1):\n",
    "    # Here make sure to preprocess your image_input in a way your network expects\n",
    "    # with size, normalization, ect if needed\n",
    "    # image_input =\n",
    "    # Note: x should be the same name as your network's tensorflow data placeholder variable\n",
    "    # If you get an error tf_activation is not defined it may be having trouble accessing the variable from inside a function\n",
    "    activation = tf_activation.eval(session=sess,feed_dict={x : image_input})\n",
    "    featuremaps = activation.shape[3]\n",
    "    plt.figure(plt_num, figsize=(15,15))\n",
    "    for featuremap in range(featuremaps):\n",
    "        plt.subplot(6,8, featuremap+1) # sets the number of feature maps to show on each row and column\n",
    "        plt.title('FeatureMap ' + str(featuremap)) # displays the feature map number\n",
    "        if activation_min != -1 & activation_max != -1:\n",
    "            plt.imshow(activation[0,:,:, featuremap], interpolation=\"nearest\", vmin =activation_min, vmax=activation_max, cmap=\"gray\")\n",
    "        elif activation_max != -1:\n",
    "            plt.imshow(activation[0,:,:, featuremap], interpolation=\"nearest\", vmax=activation_max, cmap=\"gray\")\n",
    "        elif activation_min !=-1:\n",
    "            plt.imshow(activation[0,:,:, featuremap], interpolation=\"nearest\", vmin=activation_min, cmap=\"gray\")\n",
    "        else:\n",
    "            plt.imshow(activation[0,:,:, featuremap], interpolation=\"nearest\", cmap=\"gray\")"
   ]
  }
 ],
 "metadata": {
  "anaconda-cloud": {},
  "kernelspec": {
   "display_name": "Python 3",
   "language": "python",
   "name": "python3"
  },
  "language_info": {
   "codemirror_mode": {
    "name": "ipython",
    "version": 3
   },
   "file_extension": ".py",
   "mimetype": "text/x-python",
   "name": "python",
   "nbconvert_exporter": "python",
   "pygments_lexer": "ipython3",
   "version": "3.5.2"
  },
  "widgets": {
   "state": {},
   "version": "1.1.2"
  }
 },
 "nbformat": 4,
 "nbformat_minor": 2
}
